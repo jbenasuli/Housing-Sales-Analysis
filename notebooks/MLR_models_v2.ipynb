{
 "cells": [
  {
   "cell_type": "markdown",
   "id": "3f15e2cf",
   "metadata": {},
   "source": [
    "# 2nd Notebook for multiple linear regression models"
   ]
  },
  {
   "cell_type": "code",
   "execution_count": 1,
   "id": "7be36856",
   "metadata": {},
   "outputs": [],
   "source": [
    "# Standard Packages\n",
    "import pandas as pd\n",
    "import numpy as np\n",
    "\n",
    "# Viz Packages\n",
    "import seaborn as sns\n",
    "import matplotlib.pyplot as plt\n",
    "\n",
    "# Scipy Stats\n",
    "import scipy.stats as stats \n",
    "\n",
    "# Statsmodel Api\n",
    "import statsmodels.api as sm\n",
    "from statsmodels.formula.api import ols\n",
    "\n",
    "# SKLearn Modules\n",
    "from sklearn.linear_model import LinearRegression\n",
    "from sklearn.feature_selection import RFE\n",
    "from sklearn.preprocessing import StandardScaler, OneHotEncoder\n",
    "from sklearn.model_selection import train_test_split\n",
    "import sklearn.metrics as metrics\n",
    "from sklearn.feature_selection import f_regression\n",
    "\n",
    "# Notebook Options\n",
    "import warnings\n",
    "warnings.filterwarnings(\"ignore\", category= FutureWarning)\n",
    "warnings.filterwarnings(\"ignore\", category=DeprecationWarning) \n",
    "\n",
    "pd.options.display.max_columns = None\n",
    "pd.options.display.width = None"
   ]
  },
  {
   "cell_type": "code",
   "execution_count": null,
   "id": "cec662f9",
   "metadata": {},
   "outputs": [],
   "source": []
  },
  {
   "cell_type": "code",
   "execution_count": null,
   "id": "1586e229",
   "metadata": {},
   "outputs": [],
   "source": []
  },
  {
   "cell_type": "code",
   "execution_count": null,
   "id": "44344f7b",
   "metadata": {},
   "outputs": [],
   "source": []
  }
 ],
 "metadata": {
  "kernelspec": {
   "display_name": "(learn-env)",
   "language": "python",
   "name": "learn-env"
  },
  "language_info": {
   "codemirror_mode": {
    "name": "ipython",
    "version": 3
   },
   "file_extension": ".py",
   "mimetype": "text/x-python",
   "name": "python",
   "nbconvert_exporter": "python",
   "pygments_lexer": "ipython3",
   "version": "3.8.16"
  }
 },
 "nbformat": 4,
 "nbformat_minor": 5
}
